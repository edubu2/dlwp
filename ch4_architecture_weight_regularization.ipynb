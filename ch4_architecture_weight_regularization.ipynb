{
 "cells": [
  {
   "cell_type": "markdown",
   "id": "controlled-somerset",
   "metadata": {},
   "source": [
    "# Deep Learning with Python - Ch. 4 Notes\n",
    "\n",
    "**Underfitting vs. Overfitting...the balance**\n",
    "\n",
    "Ask yourself, how much memorization is my model doing? This can be answered by comparing the number of layers & units per layer to the number of training samples & number of features. Think about how large the representation space is with the current architecture.\n",
    "\n",
    "To get the right balance - need to have a balance between not enough memorization (too few units to be able to have an effective compressed representation) and too much memorization (so much that it's essentially just memorizing the input data, and won't be able to generalize).\n",
    "\n",
    "## Determining the size of a network\n",
    "\n",
    "Start small (in number of layers and parameters), then continue adding more layers until you see a diminishing return, in regards to data validation loss.\n",
    "\n",
    "Let's do it again with the movie classification dataset - this time starting smaller."
   ]
  },
  {
   "cell_type": "code",
   "execution_count": 1,
   "id": "victorian-ticket",
   "metadata": {},
   "outputs": [
    {
     "name": "stderr",
     "output_type": "stream",
     "text": [
      "<__array_function__ internals>:5: VisibleDeprecationWarning: Creating an ndarray from ragged nested sequences (which is a list-or-tuple of lists-or-tuples-or ndarrays with different lengths or shapes) is deprecated. If you meant to do this, you must specify 'dtype=object' when creating the ndarray\n",
      "/Users/ewilens/anaconda3/envs/metis/lib/python3.8/site-packages/tensorflow/python/keras/datasets/imdb.py:159: VisibleDeprecationWarning: Creating an ndarray from ragged nested sequences (which is a list-or-tuple of lists-or-tuples-or ndarrays with different lengths or shapes) is deprecated. If you meant to do this, you must specify 'dtype=object' when creating the ndarray\n",
      "  x_train, y_train = np.array(xs[:idx]), np.array(labels[:idx])\n",
      "/Users/ewilens/anaconda3/envs/metis/lib/python3.8/site-packages/tensorflow/python/keras/datasets/imdb.py:160: VisibleDeprecationWarning: Creating an ndarray from ragged nested sequences (which is a list-or-tuple of lists-or-tuples-or ndarrays with different lengths or shapes) is deprecated. If you meant to do this, you must specify 'dtype=object' when creating the ndarray\n",
      "  x_test, y_test = np.array(xs[idx:]), np.array(labels[idx:])\n"
     ]
    }
   ],
   "source": [
    "import matplotlib.pyplot as plt\n",
    "\n",
    "from keras.datasets import imdb\n",
    "import numpy as np\n",
    "\n",
    "(train_data, train_labels), (test_data, test_labels) = imdb.load_data(num_words=10000)\n",
    "\n",
    "def vectorize_sequences(sequences, dimension=10000):\n",
    "    # Create an all-zero matrix of shape (len(sequences), dimension)\n",
    "    results = np.zeros((len(sequences), dimension))\n",
    "    for i, sequence in enumerate(sequences):\n",
    "        results[i, sequence] = 1.  # set specific indices of results[i] to 1s\n",
    "    return results\n",
    "\n",
    "# Our vectorized training data\n",
    "x_train = vectorize_sequences(train_data)\n",
    "# Our vectorized test data\n",
    "x_test = vectorize_sequences(test_data)\n",
    "# Our vectorized labels\n",
    "y_train = np.asarray(train_labels).astype('float32')\n",
    "y_test = np.asarray(test_labels).astype('float32')"
   ]
  },
  {
   "cell_type": "code",
   "execution_count": 2,
   "id": "intimate-efficiency",
   "metadata": {},
   "outputs": [],
   "source": [
    "from keras import models, layers\n",
    "\n",
    "original_model = models.Sequential()\n",
    "original_model.add(layers.Dense(16, activation='relu', input_shape=(10000,)))\n",
    "original_model.add(layers.Dense(16, activation='relu'))\n",
    "original_model.add(layers.Dense(1, activation='sigmoid'))\n",
    "\n",
    "original_model.compile(optimizer='rmsprop',\n",
    "                       loss='binary_crossentropy',\n",
    "                       metrics=['acc'])"
   ]
  },
  {
   "cell_type": "code",
   "execution_count": 3,
   "id": "perfect-ratio",
   "metadata": {},
   "outputs": [
    {
     "name": "stdout",
     "output_type": "stream",
     "text": [
      "Epoch 1/20\n",
      "49/49 [==============================] - 2s 42ms/step - loss: 0.5509 - acc: 0.7494 - val_loss: 0.3470 - val_acc: 0.8823\n",
      "Epoch 2/20\n",
      "49/49 [==============================] - 1s 15ms/step - loss: 0.2811 - acc: 0.9117 - val_loss: 0.2904 - val_acc: 0.8880\n",
      "Epoch 3/20\n",
      "49/49 [==============================] - 1s 15ms/step - loss: 0.2068 - acc: 0.9304 - val_loss: 0.2813 - val_acc: 0.8895\n",
      "Epoch 4/20\n",
      "49/49 [==============================] - 1s 15ms/step - loss: 0.1707 - acc: 0.9422 - val_loss: 0.2881 - val_acc: 0.8865\n",
      "Epoch 5/20\n",
      "49/49 [==============================] - 1s 15ms/step - loss: 0.1448 - acc: 0.9512 - val_loss: 0.3041 - val_acc: 0.8826\n",
      "Epoch 6/20\n",
      "49/49 [==============================] - 1s 15ms/step - loss: 0.1251 - acc: 0.9595 - val_loss: 0.3262 - val_acc: 0.8774\n",
      "Epoch 7/20\n",
      "49/49 [==============================] - 1s 15ms/step - loss: 0.1096 - acc: 0.9650 - val_loss: 0.3467 - val_acc: 0.8739\n",
      "Epoch 8/20\n",
      "49/49 [==============================] - 1s 15ms/step - loss: 0.0931 - acc: 0.9718 - val_loss: 0.3687 - val_acc: 0.8710\n",
      "Epoch 9/20\n",
      "49/49 [==============================] - 1s 15ms/step - loss: 0.0816 - acc: 0.9770 - val_loss: 0.3947 - val_acc: 0.8675\n",
      "Epoch 10/20\n",
      "49/49 [==============================] - 1s 15ms/step - loss: 0.0760 - acc: 0.9771 - val_loss: 0.4200 - val_acc: 0.8665\n",
      "Epoch 11/20\n",
      "49/49 [==============================] - 1s 15ms/step - loss: 0.0598 - acc: 0.9838 - val_loss: 0.4486 - val_acc: 0.8631\n",
      "Epoch 12/20\n",
      "49/49 [==============================] - 1s 16ms/step - loss: 0.0542 - acc: 0.9860 - val_loss: 0.4768 - val_acc: 0.8616\n",
      "Epoch 13/20\n",
      "49/49 [==============================] - 1s 16ms/step - loss: 0.0461 - acc: 0.9884 - val_loss: 0.5069 - val_acc: 0.8600\n",
      "Epoch 14/20\n",
      "49/49 [==============================] - 1s 15ms/step - loss: 0.0419 - acc: 0.9893 - val_loss: 0.6148 - val_acc: 0.8508\n",
      "Epoch 15/20\n",
      "49/49 [==============================] - 1s 15ms/step - loss: 0.0339 - acc: 0.9918 - val_loss: 0.5735 - val_acc: 0.8579\n",
      "Epoch 16/20\n",
      "49/49 [==============================] - 1s 14ms/step - loss: 0.0267 - acc: 0.9937 - val_loss: 0.6497 - val_acc: 0.8454\n",
      "Epoch 17/20\n",
      "49/49 [==============================] - 1s 15ms/step - loss: 0.0215 - acc: 0.9954 - val_loss: 0.6887 - val_acc: 0.8447\n",
      "Epoch 18/20\n",
      "49/49 [==============================] - 1s 17ms/step - loss: 0.0193 - acc: 0.9960 - val_loss: 0.7045 - val_acc: 0.8490\n",
      "Epoch 19/20\n",
      "49/49 [==============================] - 1s 16ms/step - loss: 0.0164 - acc: 0.9964 - val_loss: 0.7366 - val_acc: 0.8487\n",
      "Epoch 20/20\n",
      "49/49 [==============================] - 1s 17ms/step - loss: 0.0110 - acc: 0.9981 - val_loss: 0.7745 - val_acc: 0.8487\n"
     ]
    }
   ],
   "source": [
    "original_hist = original_model.fit(x_train, y_train,\n",
    "                                   epochs=20,\n",
    "                                   batch_size=512,\n",
    "                                   validation_data=(x_test, y_test))"
   ]
  },
  {
   "cell_type": "code",
   "execution_count": 4,
   "id": "worst-cookbook",
   "metadata": {},
   "outputs": [],
   "source": [
    "epochs = range(1, 21)\n",
    "original_val_loss = original_hist.history['val_loss']"
   ]
  },
  {
   "cell_type": "markdown",
   "id": "surprising-mitchell",
   "metadata": {},
   "source": [
    "# Weight regularization\n",
    "\n",
    "## L1 and L2 Regularizers\n",
    "\n",
    "Simple models are better! Add to the loss function a **cost** associated with having large weights (high complexity). This results in more normalized weights that will help prevent overfitting.\n",
    "\n",
    "***L1 regularization (LASSO)***: Cost is added proportional to the **absolute value** of the weight coefficients\n",
    "\n",
    "***L2 regularization (RIDGE)***: Cost is added proportional to the **square value** of the weight coefficients. L2 is aka **weight decay**.\n",
    "\n",
    "These are also referred to as the \"L1 norm\" or \"L2 norm\" of the data.\n",
    "\n",
    "## Interpreting results of regularized model\n",
    "   \n",
    "**The weight penalties are only applied during training. So, the cost function of train/validation steps will be much higher than that of the test set (in theory).**"
   ]
  },
  {
   "cell_type": "code",
   "execution_count": 5,
   "id": "eligible-timeline",
   "metadata": {},
   "outputs": [],
   "source": [
    "from keras import models, layers, regularizers\n",
    "\n",
    "l2_model = models.Sequential()\n",
    "\n",
    "l2_model.add(layers.Dense(16, kernel_regularizer=regularizers.l2(0.001),\n",
    "                       activation='relu', input_shape=(10000,))) # input layer\n",
    "\n",
    "l2_model.add(layers.Dense(16, kernel_regularizer=regularizers.l2(0.001), activation='relu')) # hidden layer\n",
    "\n",
    "l2_model.add(layers.Dense(1, activation='sigmoid')) # output layer"
   ]
  },
  {
   "cell_type": "code",
   "execution_count": 6,
   "id": "creative-provider",
   "metadata": {},
   "outputs": [],
   "source": [
    "l2_model.compile(optimizer='rmsprop',\n",
    "                 loss='binary_crossentropy',\n",
    "                 metrics=['acc'])"
   ]
  },
  {
   "cell_type": "markdown",
   "id": "orange-language",
   "metadata": {},
   "source": [
    "`l2(0.001)` means that every coefficient in the weight matrix of the layer will add `0.001 * weight_coefficient_value` to the total loss of the network. Note that because this penalty is _only added at training time_, the loss for this network will be much higher at training than at test time.\n",
    "\n",
    "Here's the impact of our L2 regularization penalty:"
   ]
  },
  {
   "cell_type": "code",
   "execution_count": 7,
   "id": "distinguished-estate",
   "metadata": {},
   "outputs": [
    {
     "name": "stdout",
     "output_type": "stream",
     "text": [
      "Epoch 1/20\n",
      "49/49 [==============================] - 3s 54ms/step - loss: 0.5913 - acc: 0.7425 - val_loss: 0.3848 - val_acc: 0.8814\n",
      "Epoch 2/20\n",
      "49/49 [==============================] - 1s 15ms/step - loss: 0.3290 - acc: 0.9048 - val_loss: 0.3393 - val_acc: 0.8871\n",
      "Epoch 3/20\n",
      "49/49 [==============================] - 1s 15ms/step - loss: 0.2683 - acc: 0.9234 - val_loss: 0.3349 - val_acc: 0.8846\n",
      "Epoch 4/20\n",
      "49/49 [==============================] - 1s 16ms/step - loss: 0.2488 - acc: 0.9316 - val_loss: 0.3320 - val_acc: 0.8858\n",
      "Epoch 5/20\n",
      "49/49 [==============================] - 1s 16ms/step - loss: 0.2267 - acc: 0.9394 - val_loss: 0.3660 - val_acc: 0.8720\n",
      "Epoch 6/20\n",
      "49/49 [==============================] - 1s 16ms/step - loss: 0.2223 - acc: 0.9389 - val_loss: 0.3769 - val_acc: 0.8702\n",
      "Epoch 7/20\n",
      "49/49 [==============================] - 1s 15ms/step - loss: 0.2157 - acc: 0.9435 - val_loss: 0.3581 - val_acc: 0.8778\n",
      "Epoch 8/20\n",
      "49/49 [==============================] - 1s 16ms/step - loss: 0.2041 - acc: 0.9484 - val_loss: 0.3587 - val_acc: 0.8783\n",
      "Epoch 9/20\n",
      "49/49 [==============================] - 1s 15ms/step - loss: 0.1978 - acc: 0.9536 - val_loss: 0.3611 - val_acc: 0.8798\n",
      "Epoch 10/20\n",
      "49/49 [==============================] - 1s 17ms/step - loss: 0.1960 - acc: 0.9507 - val_loss: 0.3727 - val_acc: 0.8759\n",
      "Epoch 11/20\n",
      "49/49 [==============================] - 1s 15ms/step - loss: 0.1876 - acc: 0.9559 - val_loss: 0.4019 - val_acc: 0.8673\n",
      "Epoch 12/20\n",
      "49/49 [==============================] - 1s 15ms/step - loss: 0.1919 - acc: 0.9534 - val_loss: 0.3865 - val_acc: 0.8725\n",
      "Epoch 13/20\n",
      "49/49 [==============================] - 1s 15ms/step - loss: 0.1879 - acc: 0.9524 - val_loss: 0.3920 - val_acc: 0.8721\n",
      "Epoch 14/20\n",
      "49/49 [==============================] - 1s 15ms/step - loss: 0.1817 - acc: 0.9603 - val_loss: 0.3991 - val_acc: 0.8696\n",
      "Epoch 15/20\n",
      "49/49 [==============================] - 1s 15ms/step - loss: 0.1777 - acc: 0.9591 - val_loss: 0.3974 - val_acc: 0.8716\n",
      "Epoch 16/20\n",
      "49/49 [==============================] - 1s 15ms/step - loss: 0.1766 - acc: 0.9593 - val_loss: 0.4038 - val_acc: 0.8698\n",
      "Epoch 17/20\n",
      "49/49 [==============================] - 1s 15ms/step - loss: 0.1701 - acc: 0.9634 - val_loss: 0.4290 - val_acc: 0.8643\n",
      "Epoch 18/20\n",
      "49/49 [==============================] - 1s 15ms/step - loss: 0.1735 - acc: 0.9601 - val_loss: 0.4390 - val_acc: 0.8611\n",
      "Epoch 19/20\n",
      "49/49 [==============================] - 1s 15ms/step - loss: 0.1646 - acc: 0.9664 - val_loss: 0.4370 - val_acc: 0.8632\n",
      "Epoch 20/20\n",
      "49/49 [==============================] - 1s 15ms/step - loss: 0.1622 - acc: 0.9647 - val_loss: 0.4301 - val_acc: 0.8660\n"
     ]
    }
   ],
   "source": [
    "l2_model_hist = l2_model.fit(x_train, y_train,\n",
    "                             epochs=20,\n",
    "                             batch_size=512,\n",
    "                             validation_data=(x_test, y_test))"
   ]
  },
  {
   "cell_type": "code",
   "execution_count": 8,
   "id": "appointed-democracy",
   "metadata": {},
   "outputs": [
    {
     "data": {
      "image/png": "[encoded data removed]",
      "text/plain": [
       "<Figure size 432x288 with 1 Axes>"
      ]
     },
     "metadata": {
      "needs_background": "light"
     },
     "output_type": "display_data"
    }
   ],
   "source": [
    "l2_model_val_loss = l2_model_hist.history['val_loss']\n",
    "\n",
    "plt.plot(epochs, original_val_loss, 'b+', label='Original model')\n",
    "plt.plot(epochs, l2_model_val_loss, 'bo', label='L2-regularized model')\n",
    "plt.xlabel('Epochs')\n",
    "plt.ylabel('Validation loss')\n",
    "plt.legend()\n",
    "\n",
    "plt.show()"
   ]
  },
  {
   "cell_type": "markdown",
   "id": "legal-antibody",
   "metadata": {},
   "source": [
    "## Alternatives to L2\n",
    "\n",
    "L1, or L1_L2 (both at the same time)\n",
    "\n",
    "L1 regularization: `regularizers.l1(0.001)`\n",
    "\n",
    "L1 and L2 regularization at the same time: `regularizers.l1_l2(l1=0.001, l2=0.001)`"
   ]
  },
  {
   "cell_type": "markdown",
   "id": "familiar-reservation",
   "metadata": {},
   "source": [
    "## Dropout Layers\n",
    "\n",
    "Most common method of regularization (in neural networks) - zero out random outputs of each layer "
   ]
  },
  {
   "cell_type": "code",
   "execution_count": 11,
   "id": "crazy-hollywood",
   "metadata": {},
   "outputs": [],
   "source": [
    "dpt_model = models.Sequential()\n",
    "\n",
    "dpt_model.add(layers.Dense(16, activation='relu', input_shape=(10000,))) # input layer\n",
    "dpt_model.add(layers.Dropout(0.5)) # dropout random outputs of above layer\n",
    "\n",
    "dpt_model.add(layers.Dense(16, activation='relu')) # hidden layer\n",
    "dpt_model.add(layers.Dropout(0.5)) # dropout random outputs of above layer\n",
    "\n",
    "dpt_model.add(layers.Dense(1, activation='sigmoid')) # output layer\n",
    "\n",
    "dpt_model.compile(optimizer='rmsprop',\n",
    "                  loss='binary_crossentropy',\n",
    "                  metrics=['acc'])"
   ]
  },
  {
   "cell_type": "code",
   "execution_count": 12,
   "id": "similar-helicopter",
   "metadata": {},
   "outputs": [
    {
     "name": "stdout",
     "output_type": "stream",
     "text": [
      "Epoch 1/20\n",
      "49/49 [==============================] - 3s 45ms/step - loss: 0.6446 - acc: 0.6092 - val_loss: 0.4648 - val_acc: 0.8552\n",
      "Epoch 2/20\n",
      "49/49 [==============================] - 1s 15ms/step - loss: 0.4759 - acc: 0.8003 - val_loss: 0.3767 - val_acc: 0.8674\n",
      "Epoch 3/20\n",
      "49/49 [==============================] - 1s 16ms/step - loss: 0.3819 - acc: 0.8612 - val_loss: 0.3148 - val_acc: 0.8822\n",
      "Epoch 4/20\n",
      "49/49 [==============================] - 1s 16ms/step - loss: 0.3197 - acc: 0.8968 - val_loss: 0.3022 - val_acc: 0.8767\n",
      "Epoch 5/20\n",
      "49/49 [==============================] - 1s 15ms/step - loss: 0.2833 - acc: 0.9171 - val_loss: 0.2923 - val_acc: 0.8863\n",
      "Epoch 6/20\n",
      "49/49 [==============================] - 1s 16ms/step - loss: 0.2459 - acc: 0.9267 - val_loss: 0.2988 - val_acc: 0.8838\n",
      "Epoch 7/20\n",
      "49/49 [==============================] - 1s 15ms/step - loss: 0.2190 - acc: 0.9362 - val_loss: 0.3066 - val_acc: 0.8809\n",
      "Epoch 8/20\n",
      "49/49 [==============================] - 1s 16ms/step - loss: 0.1989 - acc: 0.9443 - val_loss: 0.3209 - val_acc: 0.8764\n",
      "Epoch 9/20\n",
      "49/49 [==============================] - 1s 15ms/step - loss: 0.1925 - acc: 0.9466 - val_loss: 0.3596 - val_acc: 0.8822\n",
      "Epoch 10/20\n",
      "49/49 [==============================] - 1s 15ms/step - loss: 0.1720 - acc: 0.9529 - val_loss: 0.3764 - val_acc: 0.8805\n",
      "Epoch 11/20\n",
      "49/49 [==============================] - 1s 15ms/step - loss: 0.1607 - acc: 0.9574 - val_loss: 0.3974 - val_acc: 0.8784\n",
      "Epoch 12/20\n",
      "49/49 [==============================] - 1s 15ms/step - loss: 0.1505 - acc: 0.9609 - val_loss: 0.4179 - val_acc: 0.8767\n",
      "Epoch 13/20\n",
      "49/49 [==============================] - 1s 15ms/step - loss: 0.1445 - acc: 0.9610 - val_loss: 0.4365 - val_acc: 0.8714\n",
      "Epoch 14/20\n",
      "49/49 [==============================] - 1s 15ms/step - loss: 0.1369 - acc: 0.9647 - val_loss: 0.4526 - val_acc: 0.8726\n",
      "Epoch 15/20\n",
      "49/49 [==============================] - 1s 15ms/step - loss: 0.1291 - acc: 0.9654 - val_loss: 0.4815 - val_acc: 0.8742\n",
      "Epoch 16/20\n",
      "49/49 [==============================] - 1s 15ms/step - loss: 0.1204 - acc: 0.9691 - val_loss: 0.4992 - val_acc: 0.8686\n",
      "Epoch 17/20\n",
      "49/49 [==============================] - 1s 15ms/step - loss: 0.1158 - acc: 0.9703 - val_loss: 0.5518 - val_acc: 0.8734\n",
      "Epoch 18/20\n",
      "49/49 [==============================] - 1s 15ms/step - loss: 0.1217 - acc: 0.9693 - val_loss: 0.5960 - val_acc: 0.8725\n",
      "Epoch 19/20\n",
      "49/49 [==============================] - 1s 15ms/step - loss: 0.1126 - acc: 0.9706 - val_loss: 0.5957 - val_acc: 0.8722\n",
      "Epoch 20/20\n",
      "49/49 [==============================] - 1s 15ms/step - loss: 0.1041 - acc: 0.9736 - val_loss: 0.6231 - val_acc: 0.8708\n"
     ]
    }
   ],
   "source": [
    "dpt_model_hist = dpt_model.fit(x_train, y_train,\n",
    "                               epochs=20,\n",
    "                               batch_size=512,\n",
    "                               validation_data=(x_test, y_test))"
   ]
  },
  {
   "cell_type": "code",
   "execution_count": 13,
   "id": "rapid-business",
   "metadata": {},
   "outputs": [
    {
     "data": {
      "image/png": "[encoded data removed]",
      "text/plain": [
       "<Figure size 432x288 with 1 Axes>"
      ]
     },
     "metadata": {
      "needs_background": "light"
     },
     "output_type": "display_data"
    }
   ],
   "source": [
    "dpt_model_val_loss = dpt_model_hist.history['val_loss']\n",
    "\n",
    "plt.plot(epochs, original_val_loss, 'b+', label='Original model')\n",
    "plt.plot(epochs, dpt_model_val_loss, 'bo', label='Dropout-regularized model')\n",
    "plt.xlabel('Epochs')\n",
    "plt.ylabel('Validation loss')\n",
    "plt.legend()\n",
    "\n",
    "plt.show()"
   ]
  },
  {
   "cell_type": "code",
   "execution_count": null,
   "id": "treated-friendly",
   "metadata": {},
   "outputs": [],
   "source": []
  }
 ],
 "metadata": {
  "kernelspec": {
   "display_name": "Python [conda env:metis] *",
   "language": "python",
   "name": "conda-env-metis-py"
  },
  "language_info": {
   "codemirror_mode": {
    "name": "ipython",
    "version": 3
   },
   "file_extension": ".py",
   "mimetype": "text/x-python",
   "name": "python",
   "nbconvert_exporter": "python",
   "pygments_lexer": "ipython3",
   "version": "3.8.6"
  }
 },
 "nbformat": 4,
 "nbformat_minor": 5
}
