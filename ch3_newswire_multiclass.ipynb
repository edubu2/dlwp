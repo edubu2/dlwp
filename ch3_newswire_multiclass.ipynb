{
 "cells": [
  {
   "cell_type": "markdown",
   "id": "lyric-brand",
   "metadata": {},
   "source": [
    "# Chapter 3: Getting Started with Neural Networks (DLWP Notes)\n",
    "\n",
    "**Reuters dataset** - a short of newswires and their topics, published by Reuters in 1986.\n",
    "* 46 different topics/classes\n",
    "* Not equally distributed (some topics have more examples than others)\n",
    "* Each topic has at least 10 examples"
   ]
  },
  {
   "cell_type": "code",
   "execution_count": 1,
   "id": "applicable-longer",
   "metadata": {},
   "outputs": [],
   "source": [
    "import matplotlib.pyplot as plt\n",
    "import keras\n",
    "from keras.datasets import reuters"
   ]
  },
  {
   "cell_type": "code",
   "execution_count": 4,
   "id": "objective-sacrifice",
   "metadata": {},
   "outputs": [],
   "source": [
    "(train_data, train_labels), (test_data, test_labels) = reuters.load_data(\n",
    "    num_words=10000) # only pull the 10k most frequent words across all articles"
   ]
  },
  {
   "cell_type": "code",
   "execution_count": 6,
   "id": "demographic-alexander",
   "metadata": {},
   "outputs": [
    {
     "data": {
      "text/plain": [
       "(8982, 2246)"
      ]
     },
     "execution_count": 6,
     "metadata": {},
     "output_type": "execute_result"
    }
   ],
   "source": [
    "len(train_data), len(test_data)"
   ]
  },
  {
   "cell_type": "code",
   "execution_count": 8,
   "id": "brief-cheat",
   "metadata": {},
   "outputs": [
    {
     "data": {
      "text/plain": [
       "[1, 2, 2, 8, 43, 10, 447, 5, 25, 207]"
      ]
     },
     "execution_count": 8,
     "metadata": {},
     "output_type": "execute_result"
    }
   ],
   "source": [
    "train_data[0][:10] # each datapoint is a list of indices in the word_index, which we're about to pull."
   ]
  },
  {
   "cell_type": "code",
   "execution_count": 29,
   "id": "steady-management",
   "metadata": {},
   "outputs": [],
   "source": [
    "word_index = reuters.get_word_index()\n",
    "reverse_word_index = dict([(value, key) for (key, value) in word_index.items()]) # swaps key-val pairs\n",
    "decoded_newswire = ' '.join([reverse_word_index.get(i - 3, '?') for i in\n",
    "train_data[0]])"
   ]
  },
  {
   "cell_type": "code",
   "execution_count": 28,
   "id": "clinical-orange",
   "metadata": {},
   "outputs": [
    {
     "data": {
      "text/plain": [
       "['mdbl', 'fawc', 'degussa', 'woods']"
      ]
     },
     "execution_count": 28,
     "metadata": {},
     "output_type": "execute_result"
    }
   ],
   "source": [
    "list(word_index)[:4] # dict keys"
   ]
  },
  {
   "cell_type": "markdown",
   "id": "rental-rebate",
   "metadata": {},
   "source": [
    "## Vectorize sequences"
   ]
  },
  {
   "cell_type": "code",
   "execution_count": 18,
   "id": "transparent-event",
   "metadata": {},
   "outputs": [],
   "source": [
    "import numpy as np\n",
    "\n",
    "def vectorize_sequences(sequences, dimension=10000):\n",
    "    results = np.zeros((len(sequences), dimension))\n",
    "    for i, sequence in enumerate(sequences):\n",
    "        results[i, sequence] = 1\n",
    "    return results\n",
    "\n",
    "x_train = vectorize_sequences(train_data)\n",
    "x_test = vectorize_sequences(test_data)"
   ]
  },
  {
   "cell_type": "code",
   "execution_count": 21,
   "id": "bottom-simpson",
   "metadata": {},
   "outputs": [],
   "source": [
    "## Vectorize labels (via one-hot-encoding)\n",
    "\n",
    "from keras.utils.np_utils import to_categorical\n",
    "\n",
    "one_hot_train_labels = to_categorical(train_labels)\n",
    "one_hot_test_labels = to_categorical(test_labels)"
   ]
  },
  {
   "cell_type": "code",
   "execution_count": 24,
   "id": "naked-record",
   "metadata": {},
   "outputs": [
    {
     "data": {
      "text/plain": [
       "array([[0., 0., 0., 1., 0., 0., 0., 0., 0., 0., 0., 0., 0., 0., 0., 0.,\n",
       "        0., 0., 0., 0., 0., 0., 0., 0., 0., 0., 0., 0., 0., 0., 0., 0.,\n",
       "        0., 0., 0., 0., 0., 0., 0., 0., 0., 0., 0., 0., 0., 0.]],\n",
       "      dtype=float32)"
      ]
     },
     "execution_count": 24,
     "metadata": {},
     "output_type": "execute_result"
    }
   ],
   "source": [
    "one_hot_train_labels[:1] # each label is a 2D tensor with all zeros, except one 1"
   ]
  },
  {
   "cell_type": "markdown",
   "id": "manual-associate",
   "metadata": {},
   "source": [
    "## Neural Network Architecture for Multi-Class Problems\n",
    "\n",
    "In the last example (binary classification), we used 2 16-hidden-unit, relu-activated layers and a 1D output.\n",
    "\n",
    "Now, we have 46 different classes. So a 16-D space may not be enough to separate the data into 46 classes. For that reason, let's use a 64-unit hidden layer. The number of hidden units should be greater than the num dimensions of the output\n",
    "\n",
    "**The output layer for a multiclass problem should usually be `softmax`, which outputs a 46-dimensional *probability distribution* over the different output classes.** \n",
    "* each label will have a probablity associated, the sum of all of them == 1"
   ]
  },
  {
   "cell_type": "code",
   "execution_count": 30,
   "id": "communist-freedom",
   "metadata": {},
   "outputs": [],
   "source": [
    "from keras import models, layers\n",
    "\n",
    "model = models.Sequential()\n",
    "\n",
    "model.add(layers.Dense(64, activation='relu', input_shape=(10000,)))\n",
    "model.add(layers.Dense(64, activation='relu'))\n",
    "model.add(layers.Dense(46, activation='softmax')) # output layer"
   ]
  },
  {
   "cell_type": "markdown",
   "id": "charming-pilot",
   "metadata": {},
   "source": [
    "## Loss Function Selection\n",
    "\n",
    "**For multiclass problems, use **categorical_crossentropy**. \n",
    "\n",
    "**categorical_crossentropy** measures the distances between two probability distributions:\n",
    "\n",
    "1. Probablity output of the network\n",
    "2. True distribution of the labels\n",
    "\n",
    "By minimizing the distance between the two distributions, you train the network to output something as close as possible to the true labels.\n"
   ]
  },
  {
   "cell_type": "code",
   "execution_count": 32,
   "id": "julian-format",
   "metadata": {},
   "outputs": [],
   "source": [
    "model.compile(optimizer='rmsprop',\n",
    "loss='categorical_crossentropy',\n",
    "metrics=['accuracy'])"
   ]
  },
  {
   "cell_type": "markdown",
   "id": "talented-medicine",
   "metadata": {},
   "source": [
    "## Batch Size\n",
    "\n",
    "Batch size is the number of samples to be processed simultaneously for the model.\n",
    "\n",
    "The number of samples should be base-2, and is usually between 8-128."
   ]
  },
  {
   "cell_type": "code",
   "execution_count": 33,
   "id": "shaped-bloom",
   "metadata": {},
   "outputs": [],
   "source": [
    "x_val = x_train[:1000]\n",
    "partial_x_train = x_train[1000:]\n",
    "y_val = one_hot_train_labels[:1000]\n",
    "partial_y_train = one_hot_train_labels[1000:]"
   ]
  },
  {
   "cell_type": "code",
   "execution_count": 34,
   "id": "floating-stupid",
   "metadata": {},
   "outputs": [
    {
     "name": "stdout",
     "output_type": "stream",
     "text": [
      "Epoch 1/20\n",
      "16/16 [==============================] - 1s 33ms/step - loss: 3.0853 - accuracy: 0.4286 - val_loss: 1.6969 - val_accuracy: 0.6380\n",
      "Epoch 2/20\n",
      "16/16 [==============================] - 0s 18ms/step - loss: 1.4849 - accuracy: 0.6954 - val_loss: 1.2816 - val_accuracy: 0.7150\n",
      "Epoch 3/20\n",
      "16/16 [==============================] - 0s 18ms/step - loss: 1.0715 - accuracy: 0.7671 - val_loss: 1.1212 - val_accuracy: 0.7630\n",
      "Epoch 4/20\n",
      "16/16 [==============================] - 0s 18ms/step - loss: 0.8543 - accuracy: 0.8150 - val_loss: 1.0168 - val_accuracy: 0.7840\n",
      "Epoch 5/20\n",
      "16/16 [==============================] - 0s 22ms/step - loss: 0.6654 - accuracy: 0.8650 - val_loss: 0.9412 - val_accuracy: 0.8050\n",
      "Epoch 6/20\n",
      "16/16 [==============================] - 0s 20ms/step - loss: 0.5151 - accuracy: 0.8938 - val_loss: 0.9051 - val_accuracy: 0.8030\n",
      "Epoch 7/20\n",
      "16/16 [==============================] - 0s 19ms/step - loss: 0.4167 - accuracy: 0.9133 - val_loss: 0.8709 - val_accuracy: 0.8190\n",
      "Epoch 8/20\n",
      "16/16 [==============================] - 0s 18ms/step - loss: 0.3184 - accuracy: 0.9322 - val_loss: 0.8628 - val_accuracy: 0.8180\n",
      "Epoch 9/20\n",
      "16/16 [==============================] - 0s 22ms/step - loss: 0.2633 - accuracy: 0.9442 - val_loss: 0.8783 - val_accuracy: 0.8130\n",
      "Epoch 10/20\n",
      "16/16 [==============================] - 0s 21ms/step - loss: 0.2200 - accuracy: 0.9499 - val_loss: 0.8740 - val_accuracy: 0.8200\n",
      "Epoch 11/20\n",
      "16/16 [==============================] - 0s 23ms/step - loss: 0.1979 - accuracy: 0.9538 - val_loss: 0.9078 - val_accuracy: 0.8140\n",
      "Epoch 12/20\n",
      "16/16 [==============================] - 0s 22ms/step - loss: 0.1680 - accuracy: 0.9560 - val_loss: 0.9937 - val_accuracy: 0.7940\n",
      "Epoch 13/20\n",
      "16/16 [==============================] - 0s 20ms/step - loss: 0.1456 - accuracy: 0.9596 - val_loss: 0.9462 - val_accuracy: 0.8070\n",
      "Epoch 14/20\n",
      "16/16 [==============================] - 0s 19ms/step - loss: 0.1389 - accuracy: 0.9569 - val_loss: 0.9342 - val_accuracy: 0.8070\n",
      "Epoch 15/20\n",
      "16/16 [==============================] - 0s 18ms/step - loss: 0.1156 - accuracy: 0.9642 - val_loss: 1.0366 - val_accuracy: 0.8030\n",
      "Epoch 16/20\n",
      "16/16 [==============================] - 0s 18ms/step - loss: 0.1233 - accuracy: 0.9586 - val_loss: 0.9973 - val_accuracy: 0.8060\n",
      "Epoch 17/20\n",
      "16/16 [==============================] - 0s 19ms/step - loss: 0.1129 - accuracy: 0.9611 - val_loss: 0.9750 - val_accuracy: 0.8120\n",
      "Epoch 18/20\n",
      "16/16 [==============================] - 0s 18ms/step - loss: 0.1094 - accuracy: 0.9612 - val_loss: 1.0485 - val_accuracy: 0.8110\n",
      "Epoch 19/20\n",
      "16/16 [==============================] - 0s 19ms/step - loss: 0.1053 - accuracy: 0.9626 - val_loss: 1.0521 - val_accuracy: 0.8050\n",
      "Epoch 20/20\n",
      "16/16 [==============================] - 0s 17ms/step - loss: 0.1016 - accuracy: 0.9635 - val_loss: 1.0679 - val_accuracy: 0.7960\n"
     ]
    }
   ],
   "source": [
    "history = model.fit(partial_x_train,\n",
    "partial_y_train,\n",
    "epochs=20,\n",
    "batch_size=512,\n",
    "validation_data=(x_val, y_val))"
   ]
  },
  {
   "cell_type": "code",
   "execution_count": 40,
   "id": "comic-traveler",
   "metadata": {},
   "outputs": [
    {
     "data": {
      "image/png": "[encoded data removed]",
      "text/plain": [
       "<Figure size 432x288 with 1 Axes>"
      ]
     },
     "metadata": {
      "needs_background": "light"
     },
     "output_type": "display_data"
    }
   ],
   "source": [
    "loss = history.history['loss']\n",
    "val_loss = history.history['val_loss']\n",
    "epochs = range(1, len(loss) + 1)\n",
    "plt.plot(epochs, loss, 'bo', label='Training loss')\n",
    "plt.plot(epochs, val_loss, 'b', label='Validation loss')\n",
    "plt.title('Training and validation loss')\n",
    "plt.xlabel('Epochs')\n",
    "plt.ylabel('Loss')\n",
    "plt.legend()\n",
    "plt.show()"
   ]
  },
  {
   "cell_type": "code",
   "execution_count": 39,
   "id": "hollow-joseph",
   "metadata": {},
   "outputs": [
    {
     "data": {
      "image/png": "[encoded data removed]",
      "text/plain": [
       "<Figure size 432x288 with 1 Axes>"
      ]
     },
     "metadata": {
      "needs_background": "light"
     },
     "output_type": "display_data"
    }
   ],
   "source": [
    "plt.clf()\n",
    "acc = history.history['accuracy']\n",
    "val_acc = history.history['val_accuracy']\n",
    "plt.plot(epochs, acc, 'bo', label='Training acc')\n",
    "plt.plot(epochs, val_acc, 'b', label='Validation acc')\n",
    "plt.title('Training and validation accuracy')\n",
    "plt.xlabel('Epochs')\n",
    "plt.ylabel('Accuracy')\n",
    "plt.legend()\n",
    "plt.show()"
   ]
  },
  {
   "cell_type": "markdown",
   "id": "dangerous-dylan",
   "metadata": {},
   "source": [
    "## Optimizing num. epochs\n",
    "\n",
    "Using above **Training and Validation *Loss*** plot, we see that the model starts to overfit after ~9 epochs. Let's retrain the model from scratch, using those 9 epochs."
   ]
  },
  {
   "cell_type": "code",
   "execution_count": 53,
   "id": "clinical-producer",
   "metadata": {},
   "outputs": [
    {
     "name": "stdout",
     "output_type": "stream",
     "text": [
      "Epoch 1/9\n",
      "16/16 [==============================] - 1s 25ms/step - loss: 3.0903 - accuracy: 0.4123 - val_loss: 1.7156 - val_accuracy: 0.6350\n",
      "Epoch 2/9\n",
      "16/16 [==============================] - 0s 19ms/step - loss: 1.4970 - accuracy: 0.6891 - val_loss: 1.2929 - val_accuracy: 0.7130\n",
      "Epoch 3/9\n",
      "16/16 [==============================] - 0s 18ms/step - loss: 1.0775 - accuracy: 0.7713 - val_loss: 1.1204 - val_accuracy: 0.7490\n",
      "Epoch 4/9\n",
      "16/16 [==============================] - 0s 18ms/step - loss: 0.8455 - accuracy: 0.8220 - val_loss: 1.0092 - val_accuracy: 0.7710\n",
      "Epoch 5/9\n",
      "16/16 [==============================] - 0s 18ms/step - loss: 0.6830 - accuracy: 0.8584 - val_loss: 0.9557 - val_accuracy: 0.7890\n",
      "Epoch 6/9\n",
      "16/16 [==============================] - 0s 19ms/step - loss: 0.5301 - accuracy: 0.8919 - val_loss: 0.8993 - val_accuracy: 0.8120\n",
      "Epoch 7/9\n",
      "16/16 [==============================] - 0s 19ms/step - loss: 0.4384 - accuracy: 0.9092 - val_loss: 0.8724 - val_accuracy: 0.8200\n",
      "Epoch 8/9\n",
      "16/16 [==============================] - 0s 20ms/step - loss: 0.3623 - accuracy: 0.9234 - val_loss: 0.8709 - val_accuracy: 0.8200\n",
      "Epoch 9/9\n",
      "16/16 [==============================] - 0s 20ms/step - loss: 0.3071 - accuracy: 0.9330 - val_loss: 0.8762 - val_accuracy: 0.8130\n",
      "71/71 [==============================] - 0s 1ms/step - loss: 0.9606 - accuracy: 0.7863\n"
     ]
    }
   ],
   "source": [
    "model = keras.Sequential()\n",
    "\n",
    "model.add(layers.Dense(64, activation='relu', input_shape=(10000,))) # input layer\n",
    "model.add(layers.Dense(64, activation='relu')) # hidden layers start here\n",
    "model.add(layers.Dense(46, activation='softmax'))\n",
    "\n",
    "model.compile(optimizer='rmsprop', loss='categorical_crossentropy', metrics=['accuracy'])\n",
    "model.fit(partial_x_train, partial_y_train, epochs=9, batch_size=512, validation_data=(x_val, y_val))\n",
    "\n",
    "results = model.evaluate(x_test, one_hot_test_labels)"
   ]
  },
  {
   "cell_type": "code",
   "execution_count": 54,
   "id": "handy-consolidation",
   "metadata": {},
   "outputs": [
    {
     "data": {
      "text/plain": [
       "[0.9606403112411499, 0.7862867116928101]"
      ]
     },
     "execution_count": 54,
     "metadata": {},
     "output_type": "execute_result"
    }
   ],
   "source": [
    "results"
   ]
  },
  {
   "cell_type": "markdown",
   "id": "silver-brazilian",
   "metadata": {},
   "source": [
    "# Example Takeaways\n",
    "\n",
    "Here’s what you should take away from this example:\n",
    "\n",
    "\n",
    "* If you’re trying to classify data points among N classes, your network should end with a Dense layer of size N.\n",
    "\n",
    "\n",
    "* In a single-label, multiclass classification problem, your network should end with a softmax activation so that it will output a probability distribution over the N output classes.\n",
    "\n",
    "\n",
    "* Categorical crossentropy is almost always the loss function you should use for such problems. It minimizes the distance between the probability distributions output by the network and the true distribution of the targets.\n",
    "\n",
    "\n",
    "* There are two ways to handle labels in multiclass classification:\n",
    "    1. Encoding the labels via categorical encoding (also known as one-hot encoding) and using categorical_crossentropy as a loss function\n",
    "    2. Encoding the labels as integers and using the sparse_categorical_crossentropy loss function\n",
    "\n",
    "\n",
    "* If you need to classify data into a large number of categories, you should avoid creating information bottlenecks in your network due to intermediate layers that are too small."
   ]
  },
  {
   "cell_type": "code",
   "execution_count": null,
   "id": "adult-briefs",
   "metadata": {},
   "outputs": [],
   "source": []
  }
 ],
 "metadata": {
  "kernelspec": {
   "display_name": "Python [conda env:metis] *",
   "language": "python",
   "name": "conda-env-metis-py"
  },
  "language_info": {
   "codemirror_mode": {
    "name": "ipython",
    "version": 3
   },
   "file_extension": ".py",
   "mimetype": "text/x-python",
   "name": "python",
   "nbconvert_exporter": "python",
   "pygments_lexer": "ipython3",
   "version": "3.8.6"
  }
 },
 "nbformat": 4,
 "nbformat_minor": 5
}
